{
 "cells": [
  {
   "cell_type": "code",
   "execution_count": 14,
   "id": "8e3576d6",
   "metadata": {},
   "outputs": [],
   "source": [
    "import pandas as pd\n",
    "import os"
   ]
  },
  {
   "cell_type": "code",
   "execution_count": 15,
   "id": "ce8f27f9",
   "metadata": {},
   "outputs": [],
   "source": [
    "# Add Matplotlib inline magic command\n",
    "%matplotlib inline\n",
    "# Dependencies and Setup\n",
    "import matplotlib.pyplot as plt\n",
    "import pandas as pd\n",
    "\n",
    "import sys\n",
    "sys.path.append('../')\n",
    "from db_connect import engine\n"
   ]
  },
  {
   "cell_type": "code",
   "execution_count": 16,
   "id": "567d406e",
   "metadata": {},
   "outputs": [
    {
     "data": {
      "text/plain": [
       "'C:\\\\Asit\\\\Personal\\\\Berkley BootCamp\\\\Module-20 Project\\\\nba-player-analytics\\\\Pre-processing\\\\preprocessing_data'"
      ]
     },
     "execution_count": 16,
     "metadata": {},
     "output_type": "execute_result"
    }
   ],
   "source": [
    "os.getcwd()"
   ]
  },
  {
   "cell_type": "code",
   "execution_count": 17,
   "id": "310a8b43",
   "metadata": {},
   "outputs": [
    {
     "name": "stdout",
     "output_type": "stream",
     "text": [
      "../../Resources/PreprocessedDataFiles/NBAPlayersStatsAllYears.csv\n",
      "../../Resources/PreprocessedDataFiles/NBAPlayersSalaryAllYears.csv\n"
     ]
    }
   ],
   "source": [
    "# File to Load (Remember to change these)\n",
    "player_stats_allyears_data_to_load = \"../../Resources/PreprocessedDataFiles/NBAPlayersStatsAllYears.csv\"\n",
    "player_salary_allyears_data_to_load = \"../../Resources/PreprocessedDataFiles/NBAPlayersSalaryAllYears.csv\"\n",
    "\n",
    "print(player_stats_allyears_data_to_load)\n",
    "print(player_salary_allyears_data_to_load)"
   ]
  },
  {
   "cell_type": "code",

   "metadata": {},
   "outputs": [
    {
     "name": "stdout",
     "output_type": "stream",
     "text": [
      "True\n",
      "True\n"
     ]
    }
   ],
   "source": [
    "print(os.path.isfile(player_stats_allyears_data_to_load))\n",
    "print(os.path.isfile(player_salary_allyears_data_to_load))"
   ]
  },
  {
   "cell_type": "code",

   "metadata": {},
   "outputs": [
    {
     "data": {
      "text/plain": [
       "Unnamed: 0                   2085\n",
       "Unnamed: 0.1                 2085\n",
       "player_id                    2085\n",
       "playing_season               2085\n",
       "playing_position             2085\n",
       "playing_age                  2085\n",
       "team_name                    2085\n",
       "no_of_games_played           2085\n",
       "no_minutes_played            2085\n",
       "field_goals_made             2085\n",
       "field_goals_pctg             2085\n",
       "three_pointers_made          2085\n",
       "three_point_pctg             2085\n",
       "effective_field_goal_pctg    2085\n",
       "free_thows_made              2085\n",
       "free_throws_pctg             2085\n",
       "total_rebounds               2085\n",
       "no_of_assists                2085\n",
       "no_of_steals                 2085\n",
       "no_of_blocks                 2085\n",
       "no_of_turnovers              2085\n",
       "points                       2085\n",
       "dtype: int64"
      ]
     },
     "execution_count": 6,
     "metadata": {},
     "output_type": "execute_result"
    }
   ],
   "source": [
    "# Read the Player Stat and Salary Data\n",
    "player_stats_allyears_df = pd.read_csv(player_stats_allyears_data_to_load)\n",
    "player_salary_allyears_df = pd.read_csv(player_salary_allyears_data_to_load)\n",
    "#player_stats_allyears_df.columns\n",
    "\n",
    "player_stats_allyears_df.count()"
   ]
  },
  {
   "cell_type": "code",
   "execution_count": 7,
   "id": "0bf14388",
   "metadata": {},
   "outputs": [],
   "source": [
    "#player_stats_allyears_df = player_stats_allyears_df.dropna()\n",
    "#player_stats_allyears_df.head(4)"
   ]
  },
  {
   "cell_type": "code",

   "metadata": {},
   "outputs": [],
   "source": [
    "# View Sats Dataframe\n",
    "player_stats_allyears_df = player_stats_allyears_df [['player_id', 'playing_season',\n",
    "       'playing_position', 'playing_age', 'team_name', 'no_of_games_played',\n",
    "       'no_minutes_played', 'field_goals_made', 'field_goals_pctg',\n",
    "       'three_pointers_made', 'three_point_pctg', 'effective_field_goal_pctg',\n",
    "       'free_thows_made', 'free_throws_pctg', 'total_rebounds',\n",
    "       'no_of_assists', 'no_of_steals', 'no_of_blocks', 'no_of_turnovers',\n",
    "       'points']]\n",
    "                                                      \n",
    "     #'assist_to_turnover_ratio']]\n",
    "player_stats_allyears_df.head(10)\n",
    "\n",
    "for idx,rows in player_stats_allyears_df.iterrows():\n",
    "    player_id = rows[0]\n",
    "    playing_season = rows[1]\n",
    "    position = rows[2]\n",
    "    age = rows[3]\n",
    "    team = rows[4]\n",
    "    games_played = rows[5]\n",
    "    minutes_played = rows[6]\n",
    "    field_goals_made = rows[7]\n",
    "    field_goals_percentage=rows[8]\n",
    "    three_points_made =rows[9]\n",
    "    three_points_attempted =rows[10]\n",
    "    three_point_percentage =rows[11]\n",
    "    effective_field_goal_percentage =rows[12]\n",
    "    free_throw_percentage =rows[13]\n",
    "    total_rebounds = rows[14]\n",
    "    assists = rows[15]\n",
    "    steals = rows[16]\n",
    "    blocks = rows[17]\n",
    "    turnovers = rows[18]\n",
    "    points = rows[19]\n",
    "    assist_to_turnover_ratio =1.0\n",
    "    \n",
    "    if (whether_player_played_inall_seasons(player_id) == True):\n",
    "        sql_query =  f'INSERT INTO PLAYERS_STATS_F VALUES(\\'{player_id}\\',{playing_season},\\'{position}\\',{age},\\'{team}\\',{games_played},{minutes_played},{field_goals_made},\\\n",
    "            {field_goals_percentage},{three_points_made},{three_points_attempted},{three_point_percentage},{effective_field_goal_percentage},{free_throw_percentage},{total_rebounds},\\\n",
    "            {assists},{steals},{blocks},{turnovers},{points},{assist_to_turnover_ratio});'\n",
    "            #print(player_id) \n",
    "        engine.execute(sql_query)\n",
    "    else:\n",
    "        continue"
   ]
  },
  {
   "cell_type": "code",
   "execution_count": 11,
   "id": "8686a065",
   "metadata": {},
   "outputs": [
    {
     "data": {
      "text/html": [
       "<div>\n",
       "<style scoped>\n",
       "    .dataframe tbody tr th:only-of-type {\n",
       "        vertical-align: middle;\n",
       "    }\n",
       "\n",
       "    .dataframe tbody tr th {\n",
       "        vertical-align: top;\n",
       "    }\n",
       "\n",
       "    .dataframe thead th {\n",
       "        text-align: right;\n",
       "    }\n",
       "</style>\n",
       "<table border=\"1\" class=\"dataframe\">\n",
       "  <thead>\n",
       "    <tr style=\"text-align: right;\">\n",
       "      <th></th>\n",
       "      <th>Unnamed: 0</th>\n",
       "      <th>Unnamed: 0.1</th>\n",
       "      <th>player_id</th>\n",
       "      <th>playing_season</th>\n",
       "      <th>salary</th>\n",
       "    </tr>\n",
       "  </thead>\n",
       "  <tbody>\n",
       "    <tr>\n",
       "      <th>0</th>\n",
       "      <td>0</td>\n",
       "      <td>0</td>\n",
       "      <td>hammoaj01</td>\n",
       "      <td>2016</td>\n",
       "      <td>0.0</td>\n",
       "    </tr>\n",
       "    <tr>\n",
       "      <th>1</th>\n",
       "      <td>1</td>\n",
       "      <td>1</td>\n",
       "      <td>brookaa01</td>\n",
       "      <td>2016</td>\n",
       "      <td>2700000.0</td>\n",
       "    </tr>\n",
       "    <tr>\n",
       "      <th>2</th>\n",
       "      <td>2</td>\n",
       "      <td>2</td>\n",
       "      <td>gordoaa01</td>\n",
       "      <td>2016</td>\n",
       "      <td>4351320.0</td>\n",
       "    </tr>\n",
       "    <tr>\n",
       "      <th>3</th>\n",
       "      <td>3</td>\n",
       "      <td>3</td>\n",
       "      <td>paynead01</td>\n",
       "      <td>2016</td>\n",
       "      <td>2022240.0</td>\n",
       "    </tr>\n",
       "    <tr>\n",
       "      <th>4</th>\n",
       "      <td>4</td>\n",
       "      <td>4</td>\n",
       "      <td>aminual01</td>\n",
       "      <td>2016</td>\n",
       "      <td>7680965.0</td>\n",
       "    </tr>\n",
       "    <tr>\n",
       "      <th>...</th>\n",
       "      <td>...</td>\n",
       "      <td>...</td>\n",
       "      <td>...</td>\n",
       "      <td>...</td>\n",
       "      <td>...</td>\n",
       "    </tr>\n",
       "    <tr>\n",
       "      <th>1929</th>\n",
       "      <td>521</td>\n",
       "      <td>521</td>\n",
       "      <td>youngtr01</td>\n",
       "      <td>2019</td>\n",
       "      <td>6273000.0</td>\n",
       "    </tr>\n",
       "    <tr>\n",
       "      <th>1930</th>\n",
       "      <td>522</td>\n",
       "      <td>522</td>\n",
       "      <td>zelleco01</td>\n",
       "      <td>2019</td>\n",
       "      <td>14471910.0</td>\n",
       "    </tr>\n",
       "    <tr>\n",
       "      <th>1931</th>\n",
       "      <td>523</td>\n",
       "      <td>523</td>\n",
       "      <td>zellety01</td>\n",
       "      <td>2019</td>\n",
       "      <td>245686.0</td>\n",
       "    </tr>\n",
       "    <tr>\n",
       "      <th>1932</th>\n",
       "      <td>524</td>\n",
       "      <td>524</td>\n",
       "      <td>zizican01</td>\n",
       "      <td>2019</td>\n",
       "      <td>2281800.0</td>\n",
       "    </tr>\n",
       "    <tr>\n",
       "      <th>1933</th>\n",
       "      <td>525</td>\n",
       "      <td>525</td>\n",
       "      <td>zubaciv01</td>\n",
       "      <td>2019</td>\n",
       "      <td>6481482.0</td>\n",
       "    </tr>\n",
       "  </tbody>\n",
       "</table>\n",
       "<p>1934 rows × 5 columns</p>\n",
       "</div>"
      ],
      "text/plain": [
       "      Unnamed: 0  Unnamed: 0.1  player_id  playing_season      salary\n",
       "0              0             0  hammoaj01            2016         0.0\n",
       "1              1             1  brookaa01            2016   2700000.0\n",
       "2              2             2  gordoaa01            2016   4351320.0\n",
       "3              3             3  paynead01            2016   2022240.0\n",
       "4              4             4  aminual01            2016   7680965.0\n",
       "...          ...           ...        ...             ...         ...\n",
       "1929         521           521  youngtr01            2019   6273000.0\n",
       "1930         522           522  zelleco01            2019  14471910.0\n",
       "1931         523           523  zellety01            2019    245686.0\n",
       "1932         524           524  zizican01            2019   2281800.0\n",
       "1933         525           525  zubaciv01            2019   6481482.0\n",
       "\n",
       "[1934 rows x 5 columns]"
      ]
     },

     "metadata": {},
     "output_type": "execute_result"
    }
   ],
   "source": [
    "# View Salary Dataframe\n",
    "player_salary_allyears_df"
   ]
  },
  {
   "cell_type": "code",

   "metadata": {},
   "outputs": [
    {
     "data": {
      "text/html": [
       "<div>\n",
       "<style scoped>\n",
       "    .dataframe tbody tr th:only-of-type {\n",
       "        vertical-align: middle;\n",
       "    }\n",
       "\n",
       "    .dataframe tbody tr th {\n",
       "        vertical-align: top;\n",
       "    }\n",
       "\n",
       "    .dataframe thead th {\n",
       "        text-align: right;\n",
       "    }\n",
       "</style>\n",
       "<table border=\"1\" class=\"dataframe\">\n",
       "  <thead>\n",
       "    <tr style=\"text-align: right;\">\n",
       "      <th></th>\n",
       "      <th>Unnamed: 0</th>\n",
       "      <th>Unnamed: 0.1</th>\n",
       "      <th>player_id</th>\n",
       "      <th>playing_season</th>\n",
       "      <th>salary</th>\n",
       "    </tr>\n",
       "  </thead>\n",
       "  <tbody>\n",
       "    <tr>\n",
       "      <th>0</th>\n",
       "      <td>0</td>\n",
       "      <td>0</td>\n",
       "      <td>hammoaj01</td>\n",
       "      <td>2016</td>\n",
       "      <td>0.0</td>\n",
       "    </tr>\n",
       "    <tr>\n",
       "      <th>1</th>\n",
       "      <td>1</td>\n",
       "      <td>1</td>\n",
       "      <td>brookaa01</td>\n",
       "      <td>2016</td>\n",
       "      <td>2700000.0</td>\n",
       "    </tr>\n",
       "    <tr>\n",
       "      <th>2</th>\n",
       "      <td>2</td>\n",
       "      <td>2</td>\n",
       "      <td>gordoaa01</td>\n",
       "      <td>2016</td>\n",
       "      <td>4351320.0</td>\n",
       "    </tr>\n",
       "    <tr>\n",
       "      <th>3</th>\n",
       "      <td>3</td>\n",
       "      <td>3</td>\n",
       "      <td>paynead01</td>\n",
       "      <td>2016</td>\n",
       "      <td>2022240.0</td>\n",
       "    </tr>\n",
       "    <tr>\n",
       "      <th>4</th>\n",
       "      <td>4</td>\n",
       "      <td>4</td>\n",
       "      <td>aminual01</td>\n",
       "      <td>2016</td>\n",
       "      <td>7680965.0</td>\n",
       "    </tr>\n",
       "    <tr>\n",
       "      <th>...</th>\n",
       "      <td>...</td>\n",
       "      <td>...</td>\n",
       "      <td>...</td>\n",
       "      <td>...</td>\n",
       "      <td>...</td>\n",
       "    </tr>\n",
       "    <tr>\n",
       "      <th>1929</th>\n",
       "      <td>521</td>\n",
       "      <td>521</td>\n",
       "      <td>youngtr01</td>\n",
       "      <td>2019</td>\n",
       "      <td>6273000.0</td>\n",
       "    </tr>\n",
       "    <tr>\n",
       "      <th>1930</th>\n",
       "      <td>522</td>\n",
       "      <td>522</td>\n",
       "      <td>zelleco01</td>\n",
       "      <td>2019</td>\n",
       "      <td>14471910.0</td>\n",
       "    </tr>\n",
       "    <tr>\n",
       "      <th>1931</th>\n",
       "      <td>523</td>\n",
       "      <td>523</td>\n",
       "      <td>zellety01</td>\n",
       "      <td>2019</td>\n",
       "      <td>245686.0</td>\n",
       "    </tr>\n",
       "    <tr>\n",
       "      <th>1932</th>\n",
       "      <td>524</td>\n",
       "      <td>524</td>\n",
       "      <td>zizican01</td>\n",
       "      <td>2019</td>\n",
       "      <td>2281800.0</td>\n",
       "    </tr>\n",
       "    <tr>\n",
       "      <th>1933</th>\n",
       "      <td>525</td>\n",
       "      <td>525</td>\n",
       "      <td>zubaciv01</td>\n",
       "      <td>2019</td>\n",
       "      <td>6481482.0</td>\n",
       "    </tr>\n",
       "  </tbody>\n",
       "</table>\n",
       "<p>1934 rows × 5 columns</p>\n",
       "</div>"
      ],
      "text/plain": [
       "      Unnamed: 0  Unnamed: 0.1  player_id  playing_season      salary\n",
       "0              0             0  hammoaj01            2016         0.0\n",
       "1              1             1  brookaa01            2016   2700000.0\n",
       "2              2             2  gordoaa01            2016   4351320.0\n",
       "3              3             3  paynead01            2016   2022240.0\n",
       "4              4             4  aminual01            2016   7680965.0\n",
       "...          ...           ...        ...             ...         ...\n",
       "1929         521           521  youngtr01            2019   6273000.0\n",
       "1930         522           522  zelleco01            2019  14471910.0\n",
       "1931         523           523  zellety01            2019    245686.0\n",
       "1932         524           524  zizican01            2019   2281800.0\n",
       "1933         525           525  zubaciv01            2019   6481482.0\n",
       "\n",
       "[1934 rows x 5 columns]"
      ]
     },

     "metadata": {},
     "output_type": "execute_result"
    }
   ],
   "source": [
    "player_salary_allyears_df"
   ]
  },
  {
   "cell_type": "code",

   "source": [
    "player_salary_allyears_df = player_salary_allyears_df [['player_id', 'playing_season',\n",
    "       'salary']]\n",
    "player_salary_allyears_df.head(10)\n",
    "for idx,rows in player_salary_allyears_df.iterrows():\n",
    "    player_id = rows[0]\n",
    "    playing_season = rows[1]\n",
    "    salary = rows[2]\n",
    "    if (whether_player_played_inall_seasons(player_id) == True):\n",
    "        sql_query_to_insert_player_salary_info = f'INSERT INTO PLAYERS_SALARY_F VALUES(\\'{player_id}\\',{playing_season},\\\n",
    "               {salary});'\n",
    "        engine.execute(sql_query_to_insert_player_salary_info)\n",
    "    else:\n",
    "        continue\n",
    "    \n",
    "    \n",
    "    "
   ]
  },
  {
   "cell_type": "code",
   "execution_count": null,

   "metadata": {},
   "outputs": [],
   "source": []
  }
 ],
 "metadata": {
  "kernelspec": {
   "display_name": "mlenv",
   "language": "python",
   "name": "mlenv"
  },
  "language_info": {
   "codemirror_mode": {
    "name": "ipython",
    "version": 3
   },
   "file_extension": ".py",
   "mimetype": "text/x-python",
   "name": "python",
   "nbconvert_exporter": "python",
   "pygments_lexer": "ipython3",
   "version": "3.7.10"
  }
 },
 "nbformat": 4,
 "nbformat_minor": 5
}
