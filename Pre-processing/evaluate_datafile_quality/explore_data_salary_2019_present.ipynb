{
 "cells": [
  {
   "cell_type": "code",
   "execution_count": 5,
   "id": "450ab203",
   "metadata": {},
   "outputs": [],
   "source": [
    "import pandas as pd\n",
    "import os"
   ]
  },
  {
   "cell_type": "code",
   "execution_count": 6,
   "id": "806dfb47",
   "metadata": {},
   "outputs": [],
   "source": [
    "# Add Matplotlib inline magic command\n",
    "%matplotlib inline\n",
    "# Dependencies and Setup\n",
    "import matplotlib.pyplot as plt\n",
    "import pandas as pd"
   ]
  },
  {
   "cell_type": "code",
   "execution_count": 7,
   "id": "b03a6df1",
   "metadata": {},
   "outputs": [
    {
     "data": {
      "text/plain": [
       "'/Users/dhanaprakashdurairaj/Documents/GitHub/nba-player-analytics/Practice'"
      ]
     },
     "execution_count": 7,
     "metadata": {},
     "output_type": "execute_result"
    }
   ],
   "source": [
    "os.getcwd()"
   ]
  },
  {
   "cell_type": "code",
   "execution_count": 8,
   "id": "beb0ca45",
   "metadata": {},
   "outputs": [
    {
     "name": "stdout",
     "output_type": "stream",
     "text": [
      "../Resources/NBA Players Stats 201617.csv\n",
      "../Resources/NBA Players Stats 201718.csv\n",
      "../Resources/NBA Players Stats 201819.csv\n",
      "../Resources/NBA STATs19-20.csv\n",
      "../Resources/nba_stats_salaries_16-19.csv\n",
      "../Resources/NBA_salaries_2019_present.csv\n"
     ]
    }
   ],
   "source": [
    "# File to Load (Remember to change these)\n",
    "player_stats_201617_data_to_load = \"../Resources/NBA Players Stats 201617.csv\"\n",
    "player_stats_201718_data_to_load = \"../Resources/NBA Players Stats 201718.csv\"\n",
    "player_stats_201819_data_to_load = \"../Resources/NBA Players Stats 201819.csv\"\n",
    "player_stats_201920_data_to_load = \"../Resources/NBA STATs19-20.csv\"\n",
    "\n",
    "player_salary_2019_to_present_data_to_load = \"../Resources/NBA_salaries_2019_present.csv\"\n",
    "player_salary_2016_to_2019_data_to_load = \"../Resources/nba_stats_salaries_16-19.csv\"\n",
    "\n",
    "print(player_stats_201617_data_to_load)\n",
    "print(player_stats_201718_data_to_load)\n",
    "print(player_stats_201819_data_to_load)\n",
    "print(player_stats_201920_data_to_load)\n",
    "\n",
    "print(player_salary_2016_to_2019_data_to_load)\n",
    "print(player_salary_2019_to_present_data_to_load)\n"
   ]
  },
  {
   "cell_type": "code",
   "execution_count": 9,
   "id": "d29ba2a3",
   "metadata": {},
   "outputs": [
    {
     "name": "stdout",
     "output_type": "stream",
     "text": [
      "True\n",
      "True\n",
      "True\n",
      "True\n",
      "True\n",
      "True\n"
     ]
    }
   ],
   "source": [
    "print(os.path.isfile(player_stats_201617_data_to_load))\n",
    "print(os.path.isfile(player_stats_201718_data_to_load))\n",
    "print(os.path.isfile(player_stats_201819_data_to_load))\n",
    "print(os.path.isfile(player_stats_201920_data_to_load))\n",
    "\n",
    "print(os.path.isfile(player_salary_2016_to_2019_data_to_load))\n",
    "print(os.path.isfile(player_salary_2019_to_present_data_to_load))\n"
   ]
  },
  {
   "cell_type": "code",
   "execution_count": 10,
   "id": "9b1ee00c",
   "metadata": {},
   "outputs": [],
   "source": [
    "# Read the Player Stat and Salary Data\n",
    "player_stats_201617_df = pd.read_csv(player_stats_201617_data_to_load)\n",
    "player_stats_201718_df = pd.read_csv(player_stats_201718_data_to_load)\n",
    "player_stats_201819_df = pd.read_csv(player_stats_201819_data_to_load)\n",
    "player_stats_201920_df = pd.read_csv(player_stats_201920_data_to_load)\n",
    "\n",
    "player_salary_2016_to_2019_df = pd.read_csv(player_salary_2016_to_2019_data_to_load)\n",
    "player_salary_2019_to_present_df = pd.read_csv(player_salary_2019_to_present_data_to_load)\n",
    "\n",
    "dataframe_analyzed_df = player_salary_2019_to_present_df"
   ]
  },
  {
   "cell_type": "code",
   "execution_count": 11,
   "id": "1b095101",
   "metadata": {},
   "outputs": [
    {
     "data": {
      "text/html": [
       "<div>\n",
       "<style scoped>\n",
       "    .dataframe tbody tr th:only-of-type {\n",
       "        vertical-align: middle;\n",
       "    }\n",
       "\n",
       "    .dataframe tbody tr th {\n",
       "        vertical-align: top;\n",
       "    }\n",
       "\n",
       "    .dataframe thead th {\n",
       "        text-align: right;\n",
       "    }\n",
       "</style>\n",
       "<table border=\"1\" class=\"dataframe\">\n",
       "  <thead>\n",
       "    <tr style=\"text-align: right;\">\n",
       "      <th></th>\n",
       "      <th>Rk</th>\n",
       "      <th>Player</th>\n",
       "      <th>Tm</th>\n",
       "      <th>2019-20</th>\n",
       "      <th>2020-21</th>\n",
       "      <th>2021-22</th>\n",
       "      <th>2022-23</th>\n",
       "      <th>2023-24</th>\n",
       "      <th>2024-25</th>\n",
       "      <th>Signed Using</th>\n",
       "      <th>Guaranteed</th>\n",
       "    </tr>\n",
       "  </thead>\n",
       "  <tbody>\n",
       "    <tr>\n",
       "      <th>0</th>\n",
       "      <td>1</td>\n",
       "      <td>Stephen Curry\\curryst01</td>\n",
       "      <td>GSW</td>\n",
       "      <td>40231758.00 $</td>\n",
       "      <td>43006362.00 $</td>\n",
       "      <td>45780966.00 $</td>\n",
       "      <td>NaN</td>\n",
       "      <td>NaN</td>\n",
       "      <td>NaN</td>\n",
       "      <td>Bird Rights</td>\n",
       "      <td>129019086.00 $</td>\n",
       "    </tr>\n",
       "    <tr>\n",
       "      <th>1</th>\n",
       "      <td>2</td>\n",
       "      <td>Chris Paul\\paulch01</td>\n",
       "      <td>OKC</td>\n",
       "      <td>38506482.00 $</td>\n",
       "      <td>41358814.00 $</td>\n",
       "      <td>44211146.00 $</td>\n",
       "      <td>NaN</td>\n",
       "      <td>NaN</td>\n",
       "      <td>NaN</td>\n",
       "      <td>Bird Rights</td>\n",
       "      <td>79865296.00 $</td>\n",
       "    </tr>\n",
       "    <tr>\n",
       "      <th>2</th>\n",
       "      <td>3</td>\n",
       "      <td>Russell Westbrook\\westbru01</td>\n",
       "      <td>HOU</td>\n",
       "      <td>38178000.00 $</td>\n",
       "      <td>41006000.00 $</td>\n",
       "      <td>43848000.00 $</td>\n",
       "      <td>46662000.00 $</td>\n",
       "      <td>NaN</td>\n",
       "      <td>NaN</td>\n",
       "      <td>Bird Rights</td>\n",
       "      <td>123032000.00 $</td>\n",
       "    </tr>\n",
       "    <tr>\n",
       "      <th>3</th>\n",
       "      <td>4</td>\n",
       "      <td>John Wall\\walljo01</td>\n",
       "      <td>WAS</td>\n",
       "      <td>37800000.00 $</td>\n",
       "      <td>40824000.00 $</td>\n",
       "      <td>43848000.00 $</td>\n",
       "      <td>46872000.00 $</td>\n",
       "      <td>NaN</td>\n",
       "      <td>NaN</td>\n",
       "      <td>Bird Rights</td>\n",
       "      <td>122472000.00 $</td>\n",
       "    </tr>\n",
       "    <tr>\n",
       "      <th>4</th>\n",
       "      <td>5</td>\n",
       "      <td>James Harden\\hardeja01</td>\n",
       "      <td>HOU</td>\n",
       "      <td>37800000.00 $</td>\n",
       "      <td>40824000.00 $</td>\n",
       "      <td>43848000.00 $</td>\n",
       "      <td>46872000.00 $</td>\n",
       "      <td>NaN</td>\n",
       "      <td>NaN</td>\n",
       "      <td>Bird Rights</td>\n",
       "      <td>122472000.00 $</td>\n",
       "    </tr>\n",
       "    <tr>\n",
       "      <th>...</th>\n",
       "      <td>...</td>\n",
       "      <td>...</td>\n",
       "      <td>...</td>\n",
       "      <td>...</td>\n",
       "      <td>...</td>\n",
       "      <td>...</td>\n",
       "      <td>...</td>\n",
       "      <td>...</td>\n",
       "      <td>...</td>\n",
       "      <td>...</td>\n",
       "      <td>...</td>\n",
       "    </tr>\n",
       "    <tr>\n",
       "      <th>563</th>\n",
       "      <td>564</td>\n",
       "      <td>William Howard\\howarwi01</td>\n",
       "      <td>UTA</td>\n",
       "      <td>50000.00 $</td>\n",
       "      <td>NaN</td>\n",
       "      <td>NaN</td>\n",
       "      <td>NaN</td>\n",
       "      <td>NaN</td>\n",
       "      <td>NaN</td>\n",
       "      <td>NaN</td>\n",
       "      <td>50000.00 $</td>\n",
       "    </tr>\n",
       "    <tr>\n",
       "      <th>564</th>\n",
       "      <td>565</td>\n",
       "      <td>Isaiah Taylor\\taylois01</td>\n",
       "      <td>TOR</td>\n",
       "      <td>50000.00 $</td>\n",
       "      <td>NaN</td>\n",
       "      <td>NaN</td>\n",
       "      <td>NaN</td>\n",
       "      <td>NaN</td>\n",
       "      <td>NaN</td>\n",
       "      <td>NaN</td>\n",
       "      <td>50000.00 $</td>\n",
       "    </tr>\n",
       "    <tr>\n",
       "      <th>565</th>\n",
       "      <td>566</td>\n",
       "      <td>Tyler Lydon\\lydonty01</td>\n",
       "      <td>SAC</td>\n",
       "      <td>50000.00 $</td>\n",
       "      <td>NaN</td>\n",
       "      <td>NaN</td>\n",
       "      <td>NaN</td>\n",
       "      <td>NaN</td>\n",
       "      <td>NaN</td>\n",
       "      <td>NaN</td>\n",
       "      <td>50000.00 $</td>\n",
       "    </tr>\n",
       "    <tr>\n",
       "      <th>566</th>\n",
       "      <td>567</td>\n",
       "      <td>Hollis Thompson\\thompho01</td>\n",
       "      <td>SAC</td>\n",
       "      <td>50000.00 $</td>\n",
       "      <td>NaN</td>\n",
       "      <td>NaN</td>\n",
       "      <td>NaN</td>\n",
       "      <td>NaN</td>\n",
       "      <td>NaN</td>\n",
       "      <td>NaN</td>\n",
       "      <td>50000.00 $</td>\n",
       "    </tr>\n",
       "    <tr>\n",
       "      <th>567</th>\n",
       "      <td>568</td>\n",
       "      <td>Tyler Ulis\\ulisty01</td>\n",
       "      <td>SAC</td>\n",
       "      <td>50000.00 $</td>\n",
       "      <td>NaN</td>\n",
       "      <td>NaN</td>\n",
       "      <td>NaN</td>\n",
       "      <td>NaN</td>\n",
       "      <td>NaN</td>\n",
       "      <td>NaN</td>\n",
       "      <td>50000.00 $</td>\n",
       "    </tr>\n",
       "  </tbody>\n",
       "</table>\n",
       "<p>568 rows × 11 columns</p>\n",
       "</div>"
      ],
      "text/plain": [
       "      Rk                       Player   Tm        2019-20        2020-21  \\\n",
       "0      1      Stephen Curry\\curryst01  GSW  40231758.00 $  43006362.00 $   \n",
       "1      2          Chris Paul\\paulch01  OKC  38506482.00 $  41358814.00 $   \n",
       "2      3  Russell Westbrook\\westbru01  HOU  38178000.00 $  41006000.00 $   \n",
       "3      4           John Wall\\walljo01  WAS  37800000.00 $  40824000.00 $   \n",
       "4      5       James Harden\\hardeja01  HOU  37800000.00 $  40824000.00 $   \n",
       "..   ...                          ...  ...            ...            ...   \n",
       "563  564     William Howard\\howarwi01  UTA     50000.00 $            NaN   \n",
       "564  565      Isaiah Taylor\\taylois01  TOR     50000.00 $            NaN   \n",
       "565  566        Tyler Lydon\\lydonty01  SAC     50000.00 $            NaN   \n",
       "566  567    Hollis Thompson\\thompho01  SAC     50000.00 $            NaN   \n",
       "567  568          Tyler Ulis\\ulisty01  SAC     50000.00 $            NaN   \n",
       "\n",
       "           2021-22        2022-23 2023-24 2024-25 Signed Using      Guaranteed  \n",
       "0    45780966.00 $            NaN     NaN     NaN  Bird Rights  129019086.00 $  \n",
       "1    44211146.00 $            NaN     NaN     NaN  Bird Rights   79865296.00 $  \n",
       "2    43848000.00 $  46662000.00 $     NaN     NaN  Bird Rights  123032000.00 $  \n",
       "3    43848000.00 $  46872000.00 $     NaN     NaN  Bird Rights  122472000.00 $  \n",
       "4    43848000.00 $  46872000.00 $     NaN     NaN  Bird Rights  122472000.00 $  \n",
       "..             ...            ...     ...     ...          ...             ...  \n",
       "563            NaN            NaN     NaN     NaN          NaN      50000.00 $  \n",
       "564            NaN            NaN     NaN     NaN          NaN      50000.00 $  \n",
       "565            NaN            NaN     NaN     NaN          NaN      50000.00 $  \n",
       "566            NaN            NaN     NaN     NaN          NaN      50000.00 $  \n",
       "567            NaN            NaN     NaN     NaN          NaN      50000.00 $  \n",
       "\n",
       "[568 rows x 11 columns]"
      ]
     },
     "execution_count": 11,
     "metadata": {},
     "output_type": "execute_result"
    }
   ],
   "source": [
    "dataframe_analyzed_df"
   ]
  },
  {
   "cell_type": "code",
   "execution_count": 12,
   "id": "5c5ab53f",
   "metadata": {},
   "outputs": [
    {
     "data": {
      "text/html": [
       "<div>\n",
       "<style scoped>\n",
       "    .dataframe tbody tr th:only-of-type {\n",
       "        vertical-align: middle;\n",
       "    }\n",
       "\n",
       "    .dataframe tbody tr th {\n",
       "        vertical-align: top;\n",
       "    }\n",
       "\n",
       "    .dataframe thead th {\n",
       "        text-align: right;\n",
       "    }\n",
       "</style>\n",
       "<table border=\"1\" class=\"dataframe\">\n",
       "  <thead>\n",
       "    <tr style=\"text-align: right;\">\n",
       "      <th></th>\n",
       "      <th>Rk</th>\n",
       "      <th>Player</th>\n",
       "      <th>Tm</th>\n",
       "      <th>2019-20</th>\n",
       "      <th>2020-21</th>\n",
       "      <th>2021-22</th>\n",
       "      <th>2022-23</th>\n",
       "      <th>2023-24</th>\n",
       "      <th>2024-25</th>\n",
       "      <th>Signed Using</th>\n",
       "      <th>Guaranteed</th>\n",
       "    </tr>\n",
       "  </thead>\n",
       "  <tbody>\n",
       "    <tr>\n",
       "      <th>0</th>\n",
       "      <td>1</td>\n",
       "      <td>Stephen Curry\\curryst01</td>\n",
       "      <td>GSW</td>\n",
       "      <td>40231758.00 $</td>\n",
       "      <td>43006362.00 $</td>\n",
       "      <td>45780966.00 $</td>\n",
       "      <td>NaN</td>\n",
       "      <td>NaN</td>\n",
       "      <td>NaN</td>\n",
       "      <td>Bird Rights</td>\n",
       "      <td>129019086.00 $</td>\n",
       "    </tr>\n",
       "    <tr>\n",
       "      <th>1</th>\n",
       "      <td>2</td>\n",
       "      <td>Chris Paul\\paulch01</td>\n",
       "      <td>OKC</td>\n",
       "      <td>38506482.00 $</td>\n",
       "      <td>41358814.00 $</td>\n",
       "      <td>44211146.00 $</td>\n",
       "      <td>NaN</td>\n",
       "      <td>NaN</td>\n",
       "      <td>NaN</td>\n",
       "      <td>Bird Rights</td>\n",
       "      <td>79865296.00 $</td>\n",
       "    </tr>\n",
       "    <tr>\n",
       "      <th>2</th>\n",
       "      <td>3</td>\n",
       "      <td>Russell Westbrook\\westbru01</td>\n",
       "      <td>HOU</td>\n",
       "      <td>38178000.00 $</td>\n",
       "      <td>41006000.00 $</td>\n",
       "      <td>43848000.00 $</td>\n",
       "      <td>46662000.00 $</td>\n",
       "      <td>NaN</td>\n",
       "      <td>NaN</td>\n",
       "      <td>Bird Rights</td>\n",
       "      <td>123032000.00 $</td>\n",
       "    </tr>\n",
       "    <tr>\n",
       "      <th>3</th>\n",
       "      <td>4</td>\n",
       "      <td>John Wall\\walljo01</td>\n",
       "      <td>WAS</td>\n",
       "      <td>37800000.00 $</td>\n",
       "      <td>40824000.00 $</td>\n",
       "      <td>43848000.00 $</td>\n",
       "      <td>46872000.00 $</td>\n",
       "      <td>NaN</td>\n",
       "      <td>NaN</td>\n",
       "      <td>Bird Rights</td>\n",
       "      <td>122472000.00 $</td>\n",
       "    </tr>\n",
       "    <tr>\n",
       "      <th>4</th>\n",
       "      <td>5</td>\n",
       "      <td>James Harden\\hardeja01</td>\n",
       "      <td>HOU</td>\n",
       "      <td>37800000.00 $</td>\n",
       "      <td>40824000.00 $</td>\n",
       "      <td>43848000.00 $</td>\n",
       "      <td>46872000.00 $</td>\n",
       "      <td>NaN</td>\n",
       "      <td>NaN</td>\n",
       "      <td>Bird Rights</td>\n",
       "      <td>122472000.00 $</td>\n",
       "    </tr>\n",
       "  </tbody>\n",
       "</table>\n",
       "</div>"
      ],
      "text/plain": [
       "   Rk                       Player   Tm        2019-20        2020-21  \\\n",
       "0   1      Stephen Curry\\curryst01  GSW  40231758.00 $  43006362.00 $   \n",
       "1   2          Chris Paul\\paulch01  OKC  38506482.00 $  41358814.00 $   \n",
       "2   3  Russell Westbrook\\westbru01  HOU  38178000.00 $  41006000.00 $   \n",
       "3   4           John Wall\\walljo01  WAS  37800000.00 $  40824000.00 $   \n",
       "4   5       James Harden\\hardeja01  HOU  37800000.00 $  40824000.00 $   \n",
       "\n",
       "         2021-22        2022-23 2023-24 2024-25 Signed Using      Guaranteed  \n",
       "0  45780966.00 $            NaN     NaN     NaN  Bird Rights  129019086.00 $  \n",
       "1  44211146.00 $            NaN     NaN     NaN  Bird Rights   79865296.00 $  \n",
       "2  43848000.00 $  46662000.00 $     NaN     NaN  Bird Rights  123032000.00 $  \n",
       "3  43848000.00 $  46872000.00 $     NaN     NaN  Bird Rights  122472000.00 $  \n",
       "4  43848000.00 $  46872000.00 $     NaN     NaN  Bird Rights  122472000.00 $  "
      ]
     },
     "execution_count": 12,
     "metadata": {},
     "output_type": "execute_result"
    }
   ],
   "source": [
    "dataframe_analyzed_df.head()"
   ]
  },
  {
   "cell_type": "code",
   "execution_count": 13,
   "id": "ae6510e2",
   "metadata": {},
   "outputs": [
    {
     "data": {
      "text/plain": [
       "Rk              568\n",
       "Player          568\n",
       "Tm              568\n",
       "2019-20         568\n",
       "2020-21         349\n",
       "2021-22         206\n",
       "2022-23          96\n",
       "2023-24          21\n",
       "2024-25           3\n",
       "Signed Using    455\n",
       "Guaranteed      568\n",
       "dtype: int64"
      ]
     },
     "execution_count": 13,
     "metadata": {},
     "output_type": "execute_result"
    }
   ],
   "source": [
    "dataframe_analyzed_df.count()"
   ]
  },
  {
   "cell_type": "code",
   "execution_count": 14,
   "id": "1453949b",
   "metadata": {},
   "outputs": [
    {
     "data": {
      "text/plain": [
       "Rk                0\n",
       "Player            0\n",
       "Tm                0\n",
       "2019-20           0\n",
       "2020-21         219\n",
       "2021-22         362\n",
       "2022-23         472\n",
       "2023-24         547\n",
       "2024-25         565\n",
       "Signed Using    113\n",
       "Guaranteed        0\n",
       "dtype: int64"
      ]
     },
     "execution_count": 14,
     "metadata": {},
     "output_type": "execute_result"
    }
   ],
   "source": [
    "dataframe_analyzed_df.isnull().sum()"
   ]
  },
  {
   "cell_type": "code",
   "execution_count": 15,
   "id": "c7e32371",
   "metadata": {},
   "outputs": [
    {
     "data": {
      "text/html": [
       "<div>\n",
       "<style scoped>\n",
       "    .dataframe tbody tr th:only-of-type {\n",
       "        vertical-align: middle;\n",
       "    }\n",
       "\n",
       "    .dataframe tbody tr th {\n",
       "        vertical-align: top;\n",
       "    }\n",
       "\n",
       "    .dataframe thead th {\n",
       "        text-align: right;\n",
       "    }\n",
       "</style>\n",
       "<table border=\"1\" class=\"dataframe\">\n",
       "  <thead>\n",
       "    <tr style=\"text-align: right;\">\n",
       "      <th></th>\n",
       "      <th>Rk</th>\n",
       "    </tr>\n",
       "  </thead>\n",
       "  <tbody>\n",
       "    <tr>\n",
       "      <th>count</th>\n",
       "      <td>568.000000</td>\n",
       "    </tr>\n",
       "    <tr>\n",
       "      <th>mean</th>\n",
       "      <td>284.500000</td>\n",
       "    </tr>\n",
       "    <tr>\n",
       "      <th>std</th>\n",
       "      <td>164.111751</td>\n",
       "    </tr>\n",
       "    <tr>\n",
       "      <th>min</th>\n",
       "      <td>1.000000</td>\n",
       "    </tr>\n",
       "    <tr>\n",
       "      <th>25%</th>\n",
       "      <td>142.750000</td>\n",
       "    </tr>\n",
       "    <tr>\n",
       "      <th>50%</th>\n",
       "      <td>284.500000</td>\n",
       "    </tr>\n",
       "    <tr>\n",
       "      <th>75%</th>\n",
       "      <td>426.250000</td>\n",
       "    </tr>\n",
       "    <tr>\n",
       "      <th>max</th>\n",
       "      <td>568.000000</td>\n",
       "    </tr>\n",
       "  </tbody>\n",
       "</table>\n",
       "</div>"
      ],
      "text/plain": [
       "               Rk\n",
       "count  568.000000\n",
       "mean   284.500000\n",
       "std    164.111751\n",
       "min      1.000000\n",
       "25%    142.750000\n",
       "50%    284.500000\n",
       "75%    426.250000\n",
       "max    568.000000"
      ]
     },
     "execution_count": 15,
     "metadata": {},
     "output_type": "execute_result"
    }
   ],
   "source": [
    "dataframe_analyzed_df.describe()"
   ]
  },
  {
   "cell_type": "code",
   "execution_count": 18,
   "id": "e171dc23",
   "metadata": {},
   "outputs": [
    {
     "data": {
      "text/plain": [
       "Rk               int64\n",
       "Player          object\n",
       "Tm              object\n",
       "2019-20         object\n",
       "2020-21         object\n",
       "2021-22         object\n",
       "2022-23         object\n",
       "2023-24         object\n",
       "2024-25         object\n",
       "Signed Using    object\n",
       "Guaranteed      object\n",
       "dtype: object"
      ]
     },
     "execution_count": 18,
     "metadata": {},
     "output_type": "execute_result"
    }
   ],
   "source": [
    "dataframe_analyzed_df.dtypes"
   ]
  },
  {
   "cell_type": "code",
   "execution_count": 19,
   "id": "128e8a21",
   "metadata": {},
   "outputs": [
    {
     "data": {
      "text/plain": [
       "568"
      ]
     },
     "execution_count": 19,
     "metadata": {},
     "output_type": "execute_result"
    }
   ],
   "source": [
    "len(dataframe_analyzed_df[\"Player\"])"
   ]
  },
  {
   "cell_type": "code",
   "execution_count": 20,
   "id": "02f886b5",
   "metadata": {},
   "outputs": [
    {
     "data": {
      "text/plain": [
       "526"
      ]
     },
     "execution_count": 20,
     "metadata": {},
     "output_type": "execute_result"
    }
   ],
   "source": [
    "len(dataframe_analyzed_df[\"Player\"].unique())"
   ]
  },
  {
   "cell_type": "code",
   "execution_count": 21,
   "id": "6e345947",
   "metadata": {},
   "outputs": [],
   "source": [
    "#print (660*3)"
   ]
  },
  {
   "cell_type": "code",
   "execution_count": 22,
   "id": "ee9cf0e0",
   "metadata": {},
   "outputs": [
    {
     "ename": "KeyError",
     "evalue": "('Player_ID', 'Season')",
     "output_type": "error",
     "traceback": [
      "\u001b[0;31m---------------------------------------------------------------------------\u001b[0m",
      "\u001b[0;31mKeyError\u001b[0m                                  Traceback (most recent call last)",
      "\u001b[0;32m~/opt/anaconda3/envs/mlenv/lib/python3.7/site-packages/pandas/core/indexes/base.py\u001b[0m in \u001b[0;36mget_loc\u001b[0;34m(self, key, method, tolerance)\u001b[0m\n\u001b[1;32m   3079\u001b[0m             \u001b[0;32mtry\u001b[0m\u001b[0;34m:\u001b[0m\u001b[0;34m\u001b[0m\u001b[0;34m\u001b[0m\u001b[0m\n\u001b[0;32m-> 3080\u001b[0;31m                 \u001b[0;32mreturn\u001b[0m \u001b[0mself\u001b[0m\u001b[0;34m.\u001b[0m\u001b[0m_engine\u001b[0m\u001b[0;34m.\u001b[0m\u001b[0mget_loc\u001b[0m\u001b[0;34m(\u001b[0m\u001b[0mcasted_key\u001b[0m\u001b[0;34m)\u001b[0m\u001b[0;34m\u001b[0m\u001b[0;34m\u001b[0m\u001b[0m\n\u001b[0m\u001b[1;32m   3081\u001b[0m             \u001b[0;32mexcept\u001b[0m \u001b[0mKeyError\u001b[0m \u001b[0;32mas\u001b[0m \u001b[0merr\u001b[0m\u001b[0;34m:\u001b[0m\u001b[0;34m\u001b[0m\u001b[0;34m\u001b[0m\u001b[0m\n",
      "\u001b[0;32mpandas/_libs/index.pyx\u001b[0m in \u001b[0;36mpandas._libs.index.IndexEngine.get_loc\u001b[0;34m()\u001b[0m\n",
      "\u001b[0;32mpandas/_libs/index.pyx\u001b[0m in \u001b[0;36mpandas._libs.index.IndexEngine.get_loc\u001b[0;34m()\u001b[0m\n",
      "\u001b[0;32mpandas/_libs/hashtable_class_helper.pxi\u001b[0m in \u001b[0;36mpandas._libs.hashtable.PyObjectHashTable.get_item\u001b[0;34m()\u001b[0m\n",
      "\u001b[0;32mpandas/_libs/hashtable_class_helper.pxi\u001b[0m in \u001b[0;36mpandas._libs.hashtable.PyObjectHashTable.get_item\u001b[0;34m()\u001b[0m\n",
      "\u001b[0;31mKeyError\u001b[0m: ('Player_ID', 'Season')",
      "\nThe above exception was the direct cause of the following exception:\n",
      "\u001b[0;31mKeyError\u001b[0m                                  Traceback (most recent call last)",
      "\u001b[0;32m<ipython-input-22-390e88ec7c66>\u001b[0m in \u001b[0;36m<module>\u001b[0;34m\u001b[0m\n\u001b[0;32m----> 1\u001b[0;31m \u001b[0mlen\u001b[0m\u001b[0;34m(\u001b[0m\u001b[0mdataframe_analyzed_df\u001b[0m\u001b[0;34m[\u001b[0m\u001b[0;34m\"Player_ID\"\u001b[0m\u001b[0;34m,\u001b[0m\u001b[0;34m\"Season\"\u001b[0m\u001b[0;34m]\u001b[0m\u001b[0;34m.\u001b[0m\u001b[0munique\u001b[0m\u001b[0;34m(\u001b[0m\u001b[0;34m)\u001b[0m\u001b[0;34m)\u001b[0m\u001b[0;34m\u001b[0m\u001b[0;34m\u001b[0m\u001b[0m\n\u001b[0m",
      "\u001b[0;32m~/opt/anaconda3/envs/mlenv/lib/python3.7/site-packages/pandas/core/frame.py\u001b[0m in \u001b[0;36m__getitem__\u001b[0;34m(self, key)\u001b[0m\n\u001b[1;32m   3022\u001b[0m             \u001b[0;32mif\u001b[0m \u001b[0mself\u001b[0m\u001b[0;34m.\u001b[0m\u001b[0mcolumns\u001b[0m\u001b[0;34m.\u001b[0m\u001b[0mnlevels\u001b[0m \u001b[0;34m>\u001b[0m \u001b[0;36m1\u001b[0m\u001b[0;34m:\u001b[0m\u001b[0;34m\u001b[0m\u001b[0;34m\u001b[0m\u001b[0m\n\u001b[1;32m   3023\u001b[0m                 \u001b[0;32mreturn\u001b[0m \u001b[0mself\u001b[0m\u001b[0;34m.\u001b[0m\u001b[0m_getitem_multilevel\u001b[0m\u001b[0;34m(\u001b[0m\u001b[0mkey\u001b[0m\u001b[0;34m)\u001b[0m\u001b[0;34m\u001b[0m\u001b[0;34m\u001b[0m\u001b[0m\n\u001b[0;32m-> 3024\u001b[0;31m             \u001b[0mindexer\u001b[0m \u001b[0;34m=\u001b[0m \u001b[0mself\u001b[0m\u001b[0;34m.\u001b[0m\u001b[0mcolumns\u001b[0m\u001b[0;34m.\u001b[0m\u001b[0mget_loc\u001b[0m\u001b[0;34m(\u001b[0m\u001b[0mkey\u001b[0m\u001b[0;34m)\u001b[0m\u001b[0;34m\u001b[0m\u001b[0;34m\u001b[0m\u001b[0m\n\u001b[0m\u001b[1;32m   3025\u001b[0m             \u001b[0;32mif\u001b[0m \u001b[0mis_integer\u001b[0m\u001b[0;34m(\u001b[0m\u001b[0mindexer\u001b[0m\u001b[0;34m)\u001b[0m\u001b[0;34m:\u001b[0m\u001b[0;34m\u001b[0m\u001b[0;34m\u001b[0m\u001b[0m\n\u001b[1;32m   3026\u001b[0m                 \u001b[0mindexer\u001b[0m \u001b[0;34m=\u001b[0m \u001b[0;34m[\u001b[0m\u001b[0mindexer\u001b[0m\u001b[0;34m]\u001b[0m\u001b[0;34m\u001b[0m\u001b[0;34m\u001b[0m\u001b[0m\n",
      "\u001b[0;32m~/opt/anaconda3/envs/mlenv/lib/python3.7/site-packages/pandas/core/indexes/base.py\u001b[0m in \u001b[0;36mget_loc\u001b[0;34m(self, key, method, tolerance)\u001b[0m\n\u001b[1;32m   3080\u001b[0m                 \u001b[0;32mreturn\u001b[0m \u001b[0mself\u001b[0m\u001b[0;34m.\u001b[0m\u001b[0m_engine\u001b[0m\u001b[0;34m.\u001b[0m\u001b[0mget_loc\u001b[0m\u001b[0;34m(\u001b[0m\u001b[0mcasted_key\u001b[0m\u001b[0;34m)\u001b[0m\u001b[0;34m\u001b[0m\u001b[0;34m\u001b[0m\u001b[0m\n\u001b[1;32m   3081\u001b[0m             \u001b[0;32mexcept\u001b[0m \u001b[0mKeyError\u001b[0m \u001b[0;32mas\u001b[0m \u001b[0merr\u001b[0m\u001b[0;34m:\u001b[0m\u001b[0;34m\u001b[0m\u001b[0;34m\u001b[0m\u001b[0m\n\u001b[0;32m-> 3082\u001b[0;31m                 \u001b[0;32mraise\u001b[0m \u001b[0mKeyError\u001b[0m\u001b[0;34m(\u001b[0m\u001b[0mkey\u001b[0m\u001b[0;34m)\u001b[0m \u001b[0;32mfrom\u001b[0m \u001b[0merr\u001b[0m\u001b[0;34m\u001b[0m\u001b[0;34m\u001b[0m\u001b[0m\n\u001b[0m\u001b[1;32m   3083\u001b[0m \u001b[0;34m\u001b[0m\u001b[0m\n\u001b[1;32m   3084\u001b[0m         \u001b[0;32mif\u001b[0m \u001b[0mtolerance\u001b[0m \u001b[0;32mis\u001b[0m \u001b[0;32mnot\u001b[0m \u001b[0;32mNone\u001b[0m\u001b[0;34m:\u001b[0m\u001b[0;34m\u001b[0m\u001b[0;34m\u001b[0m\u001b[0m\n",
      "\u001b[0;31mKeyError\u001b[0m: ('Player_ID', 'Season')"
     ]
    }
   ],
   "source": [
    "len(dataframe_analyzed_df[\"Player_ID\",\"Season\"].unique())"
   ]
  },
  {
   "cell_type": "code",
   "execution_count": null,
   "id": "2e210621",
   "metadata": {},
   "outputs": [],
   "source": []
  }
 ],
 "metadata": {
  "kernelspec": {
   "display_name": "mlenv",
   "language": "python",
   "name": "mlenv"
  },
  "language_info": {
   "codemirror_mode": {
    "name": "ipython",
    "version": 3
   },
   "file_extension": ".py",
   "mimetype": "text/x-python",
   "name": "python",
   "nbconvert_exporter": "python",
   "pygments_lexer": "ipython3",
   "version": "3.7.10"
  }
 },
 "nbformat": 4,
 "nbformat_minor": 5
}
