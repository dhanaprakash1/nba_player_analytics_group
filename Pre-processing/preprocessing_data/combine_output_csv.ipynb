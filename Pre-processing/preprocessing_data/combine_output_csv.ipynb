{
 "cells": [
  {
   "cell_type": "code",
   "execution_count": 15,
   "id": "a6a57510",
   "metadata": {},
   "outputs": [],
   "source": [
    "import pandas as pd\n",
    "import os"
   ]
  },
  {
   "cell_type": "code",
   "execution_count": 16,
   "id": "ed136776",
   "metadata": {},
   "outputs": [],
   "source": [
    "# Add Matplotlib inline magic command\n",
    "%matplotlib inline\n",
    "# Dependencies and Setup\n",
    "import matplotlib.pyplot as plt\n",
    "import pandas as pd"
   ]
  },
  {
   "cell_type": "code",
   "execution_count": 17,
   "id": "36c7002b",
   "metadata": {},
   "outputs": [
    {
     "data": {
      "text/plain": [
       "'/Users/dhanaprakashdurairaj/Documents/GitHub/nba-player-analytics/Pre-processing/preprocessing_data'"
      ]
     },
     "execution_count": 17,
     "metadata": {},
     "output_type": "execute_result"
    }
   ],
   "source": [
    "os.getcwd()"
   ]
  },
  {
   "cell_type": "code",
   "execution_count": 18,
   "id": "97b5d071",
   "metadata": {},
   "outputs": [
    {
     "name": "stdout",
     "output_type": "stream",
     "text": [
      "../../Resources/PreprocessedDataFiles/NBA Players Stats 201617_clean.csv\n",
      "../../Resources/PreprocessedDataFiles/NBA Players Stats 201718_clean.csv\n",
      "../../Resources/PreprocessedDataFiles/NBA Players Stats 201819_clean.csv\n",
      "../../Resources/PreprocessedDataFiles/NBA Players Stats 201920_clean.csv\n",
      "../../Resources/PreprocessedDataFiles/NBA Players Salary 201617_clean.csv\n",
      "../../Resources/PreprocessedDataFiles/NBA Players Salary 201718_clean.csv\n",
      "../../Resources/PreprocessedDataFiles/NBA Players Salary 201819_clean.csv\n",
      "../../Resources/PreprocessedDataFiles/NBA Players Salary 201920_clean.csv\n"
     ]
    }
   ],
   "source": [
    "# File to Load (Remember to change these)\n",
    "player_stats_201617_data_to_load = \"../../Resources/PreprocessedDataFiles/NBA Players Stats 201617_clean.csv\"\n",
    "player_stats_201718_data_to_load = \"../../Resources/PreprocessedDataFiles/NBA Players Stats 201718_clean.csv\"\n",
    "player_stats_201819_data_to_load = \"../../Resources/PreprocessedDataFiles/NBA Players Stats 201819_clean.csv\"\n",
    "player_stats_201920_data_to_load = \"../../Resources/PreprocessedDataFiles/NBA Players Stats 201920_clean.csv\"\n",
    "\n",
    "player_salary_201617_data_to_load = \"../../Resources/PreprocessedDataFiles/NBA Players Salary 201617_clean.csv\"\n",
    "player_salary_201718_data_to_load = \"../../Resources/PreprocessedDataFiles/NBA Players Salary 201718_clean.csv\"\n",
    "player_salary_201819_data_to_load = \"../../Resources/PreprocessedDataFiles/NBA Players Salary 201819_clean.csv\"\n",
    "player_salary_201920_data_to_load = \"../../Resources/PreprocessedDataFiles/NBA Players Salary 201920_clean.csv\"\n",
    "\n",
    "print(player_stats_201617_data_to_load)\n",
    "print(player_stats_201718_data_to_load)\n",
    "print(player_stats_201819_data_to_load)\n",
    "print(player_stats_201920_data_to_load)\n",
    "\n",
    "print(player_salary_201617_data_to_load)\n",
    "print(player_salary_201718_data_to_load)\n",
    "print(player_salary_201819_data_to_load)\n",
    "print(player_salary_201920_data_to_load)\n"
   ]
  },
  {
   "cell_type": "code",
   "execution_count": 19,
   "id": "87b62337",
   "metadata": {},
   "outputs": [
    {
     "name": "stdout",
     "output_type": "stream",
     "text": [
      "True\n",
      "True\n",
      "True\n",
      "True\n",
      "True\n",
      "True\n",
      "True\n",
      "True\n"
     ]
    }
   ],
   "source": [
    "print(os.path.isfile(player_stats_201617_data_to_load))\n",
    "print(os.path.isfile(player_stats_201718_data_to_load))\n",
    "print(os.path.isfile(player_stats_201819_data_to_load))\n",
    "print(os.path.isfile(player_stats_201920_data_to_load))\n",
    "\n",
    "print(os.path.isfile(player_salary_201617_data_to_load))\n",
    "print(os.path.isfile(player_salary_201718_data_to_load))\n",
    "print(os.path.isfile(player_salary_201819_data_to_load))\n",
    "print(os.path.isfile(player_salary_201920_data_to_load))"
   ]
  },
  {
   "cell_type": "code",
   "execution_count": 20,
   "id": "6b0f0632",
   "metadata": {},
   "outputs": [],
   "source": [
    "# Read the Player Stat and Salary Data\n",
    "player_stats_201617_df = pd.read_csv(player_stats_201617_data_to_load)\n",
    "player_stats_201718_df = pd.read_csv(player_stats_201718_data_to_load)\n",
    "player_stats_201819_df = pd.read_csv(player_stats_201819_data_to_load)\n",
    "player_stats_201920_df = pd.read_csv(player_stats_201920_data_to_load)\n",
    "\n",
    "# Read the Player Stat and Salary Data\n",
    "player_salary_201617_df = pd.read_csv(player_salary_201617_data_to_load)\n",
    "player_salary_201718_df = pd.read_csv(player_salary_201718_data_to_load)\n",
    "player_salary_201819_df = pd.read_csv(player_salary_201819_data_to_load)\n",
    "player_salary_201920_df = pd.read_csv(player_salary_201920_data_to_load)"
   ]
  },
  {
   "cell_type": "code",
   "execution_count": 21,
   "id": "6434fac5",
   "metadata": {},
   "outputs": [],
   "source": [
    "###################################\n",
    "# Write to Combined Stats CSV File \n",
    "#####################################\n",
    "# writing stats data to csv file\n",
    "player_stats_201617_df.to_csv(r'../../Resources/PreprocessedDataFiles/NBAPlayersStatsAllYears.csv', encoding='utf-8', header='true')\n",
    "player_stats_201718_df.to_csv('../../Resources/PreprocessedDataFiles/NBAPlayersStatsAllYears.csv', mode='a', header=False)\n",
    "player_stats_201819_df.to_csv('../../Resources/PreprocessedDataFiles/NBAPlayersStatsAllYears.csv', mode='a', header=False)\n",
    "player_stats_201920_df.to_csv('../../Resources/PreprocessedDataFiles/NBAPlayersStatsAllYears.csv', mode='a', header=False)\n"
   ]
  },
  {
   "cell_type": "code",
   "execution_count": 22,
   "id": "d164af10",
   "metadata": {},
   "outputs": [],
   "source": [
    "###################################\n",
    "# Write to Combined Salary CSV File \n",
    "#####################################\n",
    "# writing salary data to csv file\n",
    "player_salary_201617_df.to_csv(r'../../Resources/PreprocessedDataFiles/NBAPlayersSalaryAllYears.csv', encoding='utf-8', header='true')\n",
    "player_salary_201718_df.to_csv('../../Resources/PreprocessedDataFiles/NBAPlayersSalaryAllYears.csv', mode='a', header=False)\n",
    "player_salary_201819_df.to_csv('../../Resources/PreprocessedDataFiles/NBAPlayersSalaryAllYears.csv', mode='a', header=False)\n",
    "player_salary_201920_df.to_csv('../../Resources/PreprocessedDataFiles/NBAPlayersSalaryAllYears.csv', mode='a', header=False)"
   ]
  },
  {
   "cell_type": "code",
   "execution_count": null,
   "id": "d729f643",
   "metadata": {},
   "outputs": [],
   "source": []
  }
 ],
 "metadata": {
  "kernelspec": {
   "display_name": "mlenv",
   "language": "python",
   "name": "mlenv"
  },
  "language_info": {
   "codemirror_mode": {
    "name": "ipython",
    "version": 3
   },
   "file_extension": ".py",
   "mimetype": "text/x-python",
   "name": "python",
   "nbconvert_exporter": "python",
   "pygments_lexer": "ipython3",
   "version": "3.7.10"
  }
 },
 "nbformat": 4,
 "nbformat_minor": 5
}
